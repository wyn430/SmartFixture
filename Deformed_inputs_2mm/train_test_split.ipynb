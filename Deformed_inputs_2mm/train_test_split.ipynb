{
 "cells": [
  {
   "cell_type": "code",
   "execution_count": null,
   "metadata": {
    "collapsed": true
   },
   "outputs": [],
   "source": [
    "import numpy as np\n",
    "import random\n",
    "random.seed(0)"
   ]
  },
  {
   "cell_type": "code",
   "execution_count": null,
   "metadata": {
    "collapsed": true
   },
   "outputs": [],
   "source": [
    "dp_list = [str(i+1) for i in range(25)]\n",
    "num_train = 20\n",
    "num_test = 5\n",
    "random.shuffle(dp_list)\n",
    "train_idx = dp_list[:num_train]\n",
    "test_idx = dp_list[-num_test:]"
   ]
  },
  {
   "cell_type": "code",
   "execution_count": null,
   "metadata": {
    "collapsed": true
   },
   "outputs": [],
   "source": [
    "filehead = '../Deformed_inputs_2mm/input_step2_dp'\n",
    "train_input_list = [filehead + idx + '.inp' for idx in train_idx]\n",
    "np.save('../code_deformed_inputs_nofix/train_file_list.npy',train_input_list)"
   ]
  },
  {
   "cell_type": "code",
   "execution_count": null,
   "metadata": {
    "collapsed": true
   },
   "outputs": [],
   "source": [
    "filehead = '../Deformed_inputs_2mm/input_step2_dp'\n",
    "test_input_list = [filehead + idx + '.inp' for idx in test_idx]\n",
    "np.save('../code_deformed_inputs_nofix/test_file_list.npy',test_input_list)"
   ]
  },
  {
   "cell_type": "code",
   "execution_count": null,
   "metadata": {
    "collapsed": true
   },
   "outputs": [],
   "source": []
  }
 ],
 "metadata": {
  "kernelspec": {
   "display_name": "tensorflow3.6",
   "language": "python",
   "name": "tensorflow3.6"
  },
  "language_info": {
   "codemirror_mode": {
    "name": "ipython",
    "version": 3
   },
   "file_extension": ".py",
   "mimetype": "text/x-python",
   "name": "python",
   "nbconvert_exporter": "python",
   "pygments_lexer": "ipython3",
   "version": "3.6.8"
  }
 },
 "nbformat": 4,
 "nbformat_minor": 2
}
