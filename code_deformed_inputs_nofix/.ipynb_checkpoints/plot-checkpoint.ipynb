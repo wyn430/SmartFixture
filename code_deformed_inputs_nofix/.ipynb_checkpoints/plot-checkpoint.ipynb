{
 "cells": [
  {
   "cell_type": "code",
   "execution_count": 1,
   "metadata": {
    "collapsed": true
   },
   "outputs": [],
   "source": [
    "%matplotlib inline\n",
    "import matplotlib.pyplot as plt\n",
    "import matplotlib as m\n",
    "from ansys.mapdl.core import launch_mapdl, launcher, Mapdl\n",
    "import numpy as np"
   ]
  },
  {
   "cell_type": "code",
   "execution_count": 2,
   "metadata": {
    "collapsed": true
   },
   "outputs": [],
   "source": [
    "ip = '45.3.126.119'\n",
    "mapdl = Mapdl(ip=ip, port=8800, request_instance=True)\n"
   ]
  },
  {
   "cell_type": "code",
   "execution_count": null,
   "metadata": {
    "collapsed": true
   },
   "outputs": [],
   "source": [
    "filenames = ['../Deformed_inputs_2mm/deform_step1_dp17.npz',\n",
    "             '../Deformed_inputs_2mm/deform_step1_dp9.npz',\n",
    "             '../Deformed_inputs_2mm/deform_step1_dp2.npz',\n",
    "             '../Deformed_inputs_2mm/deform_step1_dp14.npz',\n",
    "             '../Deformed_inputs_2mm/deform_step1_dp13.npz',\n",
    "             '../Deformed_input_2mm_test_sym/input_step2_dp17_sym1.inp',\n",
    "             '../Deformed_input_2mm_test_sym/input_step2_dp9_sym1.inp',\n",
    "             '../Deformed_input_2mm_test_sym/input_step2_dp2_sym1.inp',\n",
    "             '../Deformed_input_2mm_test_sym/input_step2_dp14_sym1.inp',\n",
    "             '../Deformed_input_2mm_test_sym/input_step2_dp13_sym1.inp',\n",
    "             '../Deformed_input_2mm_test_sym/input_step2_dp17_sym2.inp',\n",
    "             '../Deformed_input_2mm_test_sym/input_step2_dp9_sym2.inp',\n",
    "             '../Deformed_input_2mm_test_sym/input_step2_dp2_sym2.inp',\n",
    "             '../Deformed_input_2mm_test_sym/input_step2_dp14_sym2.inp',\n",
    "             '../Deformed_input_2mm_test_sym/input_step2_dp13_sym2.inp',\n",
    "             '../Deformed_inputs_2mm_baseline/input_step2_dp17_baseline_5.inp',\n",
    "             '../Deformed_inputs_2mm_baseline/input_step2_dp9_baseline_3.inp',\n",
    "             '../Deformed_inputs_2mm_baseline/input_step2_dp2_baseline_4.inp',\n",
    "             '../Deformed_inputs_2mm_baseline/input_step2_dp14_baseline_1.inp',\n",
    "             '../Deformed_inputs_2mm_baseline/input_step2_dp13_baseline_1.inp',\n",
    "             './PPO_logs/Ansys_assembly/20220920194854/test_input/input_step2_dp17.inp',\n",
    "             './PPO_logs/Ansys_assembly/20220920194854/test_input/input_step2_dp9.inp',\n",
    "             './PPO_logs/Ansys_assembly/20220920194854/test_input/input_step2_dp2.inp',\n",
    "             './PPO_logs/Ansys_assembly/20220920194854/test_input/input_step2_dp14.inp',\n",
    "             './PPO_logs/Ansys_assembly/20220920194854/test_input/input_step2_dp13.inp']"
   ]
  },
  {
   "cell_type": "code",
   "execution_count": null,
   "metadata": {
    "collapsed": true
   },
   "outputs": [],
   "source": [
    "# 17 [4263,44,2595,73,5462,1047,3386,2523]\n",
    "# 9 [259,2896,1087,3025,5719,4574,607,3326]\n",
    "# 2 [6043, 2983,409,5956,3247,254,3988,731]\n",
    "# 14 [4574,630,6111,3319,3046,5769,3086,9059]\n",
    "# 13 [1112, 4513, 3085, 6026, 4972, 4920, 2901, 4274]\n",
    "selected_positions = [[368,377,800,809,2552,2553,2578,2628],\n",
    "                      [304,580,588,880,2552,2553,2578,2628],\n",
    "                      [4263,44,2595,73,5462,1047,3386,2523],\n",
    "                      [259,2896,1087,3025,5719,4574,607,3326],\n",
    "                      [6043,2983,409,5956,3247,254,3988,731],\n",
    "                      [4574,630,6111,3319,3046,5769,3086,9059],\n",
    "                      [1112,4513,3085,6026,4972,4920,2901,4274],\n",
    "                      [4376,3174,2979,5824,1077,4570,877,5090],\n",
    "                      [4376,3174,3055,5824,5523,4631,6145,877],\n",
    "                      [4376,3174,3055,5824,5523,4631,6145,877],\n",
    "                      [4376,3174,2979,5824,1077,4570,877,5090],\n",
    "                      [4376,3174,2979,5824,1077,4631,877,5090]]\n",
    "design_point_list = ['dp17', 'dp9', 'dp2', 'dp14', 'dp13']\n",
    "colors = [\"skyblue\", \"gold\",\"orange\"]\n",
    "nodes = [0.0, 0.7, 1]\n",
    "cmap1 = m.colors.LinearSegmentedColormap.from_list(\"mycmap\", list(zip(nodes, colors)))\n",
    "#cmap1 = m.colors.LinearSegmentedColormap.from_list(\"mycmap\", colors)\n",
    "fig, axes = plt.subplots(5, 5, figsize=(18,13))\n",
    "# norm = m.colors.Normalize(vmin=0, vmax=0.03)\n",
    "data_dir = '../Deformed_inputs_2mm/'\n",
    "test_RL_dir = './PPO_logs/Ansys_assembly/20220920194854/test_input/'\n",
    "test_sym_dir = '../Deformed_input_2mm_test_sym/'\n",
    "test_base_dir = '../Deformed_inputs_2mm_baseline/'\n",
    "input_filename = './PPO_logs/Ansys_assembly/input_step1.inp'\n",
    "mapdl.input(input_filename)\n",
    "all_nodes = mapdl.mesh.nodes\n",
    "bottom_index = np.where(mapdl.mesh.nodes[:,1] == 0)[0]\n",
    "bottom_surface_nodes = mapdl.mesh.nodes[bottom_index]\n",
    "bottom_displacement_sym1_list = []\n",
    "bottom_displacement_sym2_list = []\n",
    "bottom_displacement_baseline_list = []\n",
    "bottom_displacement_RL_list = []\n",
    "for i, design_point in enumerate(design_point_list):\n",
    "    initial_deform_file = data_dir + 'deform_step1_' + design_point + '.npz'\n",
    "    initial_deform = np.load(initial_deform_file)['data']\n",
    "    #initial_deform_norm = initial_deform[bottom_index,1]\n",
    "    initial_deform_norm = np.linalg.norm(initial_deform[bottom_index], axis = 1)\n",
    "    img = axes[0,i].scatter(bottom_surface_nodes[:,0], bottom_surface_nodes[:,2], \n",
    "                          c = initial_deform_norm, cmap = cmap1, vmin=0, vmax=0.004)\n",
    "    \n",
    "    input_filename_sym1 = test_sym_dir + 'input_step2_' + design_point + '_sym1.inp'\n",
    "    mapdl.clear()\n",
    "    input_filename = input_filename_sym1 \n",
    "    #print(input_filename)\n",
    "    mapdl.input(input_filename)\n",
    "    result = mapdl.result\n",
    "    all_nodes = mapdl.mesh.nodes\n",
    "    bottom_surface_nodes = mapdl.mesh.nodes[bottom_index]\n",
    "    _, displacement =  result.nodal_displacement(0, in_nodal_coord_sys = True)\n",
    "    displacement += initial_deform.copy()\n",
    "    bottom_displacement = displacement[bottom_index]\n",
    "    #bottom_displacement_norm = bottom_displacement[:,1]\n",
    "    bottom_displacement_norm = np.linalg.norm(bottom_displacement, axis = 1)\n",
    "    bottom_displacement_sym1_list.append(bottom_displacement_norm)\n",
    "    img = axes[1,i].scatter(bottom_surface_nodes[:,0], \n",
    "                    bottom_surface_nodes[:,2], \n",
    "                    c = bottom_displacement_norm, \n",
    "                    cmap = cmap1, vmin=0, vmax=0.004)\n",
    "    for j in range(len(selected_positions[0])):\n",
    "        axes[1,i].scatter(all_nodes[selected_positions[0][j]-1,0], \n",
    "                        all_nodes[selected_positions[0][j]-1,2], c = 'r')\n",
    "        axes[1,i].annotate(str(j+1), (all_nodes[selected_positions[0][j]-1,0], \n",
    "                                    all_nodes[selected_positions[0][j]-1,2]))\n",
    "    axes[1,i].legend()\n",
    "    \n",
    "    \n",
    "    input_filename_sym2 = test_sym_dir + 'input_step2_' + design_point + '_sym2.inp'\n",
    "    mapdl.clear()\n",
    "    input_filename = input_filename_sym2 \n",
    "    #print(input_filename)\n",
    "    mapdl.input(input_filename)\n",
    "    result = mapdl.result \n",
    "    bottom_surface_nodes = mapdl.mesh.nodes[bottom_index]\n",
    "    _, displacement =  result.nodal_displacement(0, in_nodal_coord_sys = True)\n",
    "    displacement += initial_deform.copy()\n",
    "    bottom_displacement = displacement[bottom_index]\n",
    "    #bottom_displacement_norm = bottom_displacement[:,1]\n",
    "    bottom_displacement_norm = np.linalg.norm(bottom_displacement, axis = 1)\n",
    "    bottom_displacement_sym2_list.append(bottom_displacement_norm)\n",
    "    img = axes[2,i].scatter(bottom_surface_nodes[:,0], \n",
    "                    bottom_surface_nodes[:,2], \n",
    "                    c = bottom_displacement_norm, \n",
    "                    cmap = cmap1, vmin=0, vmax=0.004)\n",
    "    for j in range(len(selected_positions[1])):\n",
    "        axes[2,i].scatter(all_nodes[selected_positions[1][j]-1,0], \n",
    "                        all_nodes[selected_positions[1][j]-1,2], c = 'r')\n",
    "        axes[2,i].annotate(str(j+1), (all_nodes[selected_positions[1][j]-1,0], \n",
    "                                    all_nodes[selected_positions[1][j]-1,2]))\n",
    "    axes[2,i].legend()\n",
    "    \n",
    "    \n",
    "    input_filename_baseline = test_base_dir + 'input_step2_' + design_point + '.inp'\n",
    "    mapdl.clear()\n",
    "    input_filename = input_filename_baseline\n",
    "    #print(input_filename)\n",
    "    mapdl.input(input_filename)\n",
    "    result = mapdl.result \n",
    "    bottom_surface_nodes = mapdl.mesh.nodes[bottom_index]\n",
    "    _, displacement =  result.nodal_displacement(0, in_nodal_coord_sys = True)\n",
    "    displacement += initial_deform.copy()\n",
    "    bottom_displacement = displacement[bottom_index]\n",
    "    #bottom_displacement_norm = bottom_displacement[:,1]\n",
    "    bottom_displacement_norm = np.linalg.norm(bottom_displacement, axis = 1)\n",
    "    bottom_displacement_baseline_list.append(bottom_displacement_norm)\n",
    "    img = axes[3,i].scatter(bottom_surface_nodes[:,0], \n",
    "                    bottom_surface_nodes[:,2], \n",
    "                    c = bottom_displacement_norm, \n",
    "                    cmap = cmap1, vmin=0, vmax=0.004)\n",
    "    for j in range(len(selected_positions[i+2])):\n",
    "        axes[3,i].scatter(all_nodes[selected_positions[i+2][j]-1,0], \n",
    "                        all_nodes[selected_positions[i+2][j]-1,2], c = 'r')\n",
    "        axes[3,i].annotate(str(j+1), (all_nodes[selected_positions[i+2][j]-1,0], \n",
    "                                    all_nodes[selected_positions[i+2][j]-1,2]))\n",
    "    axes[3,i].legend()\n",
    "    \n",
    "    \n",
    "    input_filename_RL = test_RL_dir + 'input_step2_' + design_point + '.inp'\n",
    "    mapdl.clear()\n",
    "    input_filename = input_filename_RL\n",
    "    #print(input_filename)\n",
    "    mapdl.input(input_filename)\n",
    "    result = mapdl.result \n",
    "    bottom_surface_nodes = mapdl.mesh.nodes[bottom_index]\n",
    "    _, displacement =  result.nodal_displacement(0, in_nodal_coord_sys = True)\n",
    "    displacement += initial_deform.copy()\n",
    "    bottom_displacement = displacement[bottom_index]\n",
    "    #bottom_displacement_norm = bottom_displacement[:,1]\n",
    "    bottom_displacement_norm = np.linalg.norm(bottom_displacement, axis = 1)\n",
    "    bottom_displacement_RL_list.append(bottom_displacement_norm)\n",
    "    img = axes[4,i].scatter(bottom_surface_nodes[:,0], \n",
    "                    bottom_surface_nodes[:,2], \n",
    "                    c = bottom_displacement_norm, \n",
    "                    cmap = cmap1, vmin=0, vmax=0.004)\n",
    "    for j in range(len(selected_positions[i+2])):\n",
    "        axes[4,i].scatter(all_nodes[selected_positions[i+7][j]-1,0], \n",
    "                        all_nodes[selected_positions[i+7][j]-1,2], c = 'r')\n",
    "        axes[4,i].annotate(str(j+1), (all_nodes[selected_positions[i+7][j]-1,0], \n",
    "                                    all_nodes[selected_positions[i+7][j]-1,2]))\n",
    "    axes[4,i].legend()\n",
    "    \n",
    "cb_ax = fig.add_axes([.91,.124,.02,.754])\n",
    "fig.colorbar(img, cax=cb_ax)\n",
    "\n",
    "# plt.savefig('./result_0925/deform_viz_new.png')"
   ]
  },
  {
   "cell_type": "code",
   "execution_count": null,
   "metadata": {
    "collapsed": true
   },
   "outputs": [],
   "source": [
    "bottom_displacement_baseline_list[4].max()"
   ]
  },
  {
   "cell_type": "code",
   "execution_count": null,
   "metadata": {
    "collapsed": true
   },
   "outputs": [],
   "source": [
    "fig, axes = plt.subplots(1, 1, figsize=(12,8))\n",
    "x_bars = ['Sym1', 'Sym2', 'SA', 'Smartfixture', ' ', \n",
    "          'Sym1', 'Sym2', 'SA', 'Smartfixture', ' ',\n",
    "          'Sym1', 'Sym2', 'SA', 'Smartfixture', ' ',\n",
    "          'Sym1', 'Sym2', 'SA', 'Smartfixture', ' ',\n",
    "          'Sym1', 'Sym2', 'SA', 'Smartfixture', ' ']\n",
    "x_pos_sym1 = [i*4+1 for i in range(5)]\n",
    "x_pos_sym2 = [i*4+2 for i in range(5)]\n",
    "x_pos_baseline = [i*4+3 for i in range(5)]\n",
    "x_pos_RL = [i*4+4 for i in range(5)]\n",
    "axes.boxplot(bottom_displacement_sym1_list, showfliers=False, positions = x_pos_sym1)\n",
    "axes.boxplot(bottom_displacement_sym2_list, showfliers=False, positions = x_pos_sym2)\n",
    "axes.boxplot(bottom_displacement_baseline_list, showfliers=False, positions = x_pos_baseline)\n",
    "axes.boxplot(bottom_displacement_RL_list, showfliers=False, positions = x_pos_RL)\n",
    "x_pos = [i+1 for i in range(20)]\n",
    "plt.xticks(x_pos, x_bars, fontsize = 16, rotation=30)\n",
    "plt.yticks(fontsize = 16)\n",
    "plt.savefig('./result_0925/boxplot_viz_new.png')\n"
   ]
  },
  {
   "cell_type": "code",
   "execution_count": null,
   "metadata": {
    "collapsed": true
   },
   "outputs": [],
   "source": [
    "fig, axes = plt.subplots(1, 1, figsize=(12,8))\n",
    "x_bars = ['Sym1', 'Sym2', 'SA', 'Smartfixture', ' ', \n",
    "          'Sym1', 'Sym2', 'SA', 'Smartfixture', ' ',\n",
    "          'Sym1', 'Sym2', 'SA', 'Smartfixture', ' ',\n",
    "          'Sym1', 'Sym2', 'SA', 'Smartfixture', ' ',\n",
    "          'Sym1', 'Sym2', 'SA', 'Smartfixture', ' ']\n",
    "x_pos_sym1 = [i*4+1 for i in range(5)]\n",
    "x_pos_sym2 = [i*4+2 for i in range(5)]\n",
    "x_pos_baseline = [i*4+3 for i in range(5)]\n",
    "x_pos_RL = [i*4+4 for i in range(5)]\n",
    "axes.boxplot(bottom_displacement_sym1_list, showfliers=False, positions = x_pos_sym1)\n",
    "axes.boxplot(bottom_displacement_sym2_list, showfliers=False, positions = x_pos_sym2)\n",
    "axes.boxplot(bottom_displacement_baseline_list, showfliers=False, positions = x_pos_baseline)\n",
    "axes.boxplot(bottom_displacement_RL_list, showfliers=False, positions = x_pos_RL)\n",
    "x_pos = [i+1 for i in range(20)]\n",
    "plt.xticks(x_pos, x_bars, fontsize = 16, rotation=30)\n",
    "plt.yticks(fontsize = 16)\n",
    "plt.savefig('./result_0925/boxplot_viz_new.png')"
   ]
  },
  {
   "cell_type": "code",
   "execution_count": 3,
   "metadata": {},
   "outputs": [
    {
     "data": {
      "image/png": "[encoded data removed]",
      "text/plain": [
       "<Figure size 1800x1296 with 5 Axes>"
      ]
     },
     "metadata": {
      "needs_background": "light"
     },
     "output_type": "display_data"
    }
   ],
   "source": [
    "sym_dir = '../Deformed_input_2mm_test_sym/'\n",
    "base_dir = '../code_deformed_baseline/result_060423/'\n",
    "RL_dir = './PPO_logs/Ansys_assembly/20220920194854/test_input/'\n",
    "data_dir = '../Deformed_inputs_2mm/'\n",
    "input_filename = './PPO_logs/Ansys_assembly/input_step1.inp'\n",
    "\n",
    "design_point_list = ['dp17', 'dp9', 'dp2', 'dp14', 'dp13']\n",
    "\n",
    "mapdl.input(input_filename)\n",
    "all_nodes = mapdl.mesh.nodes\n",
    "bottom_index = np.where(mapdl.mesh.nodes[:,1] == 0)[0]\n",
    "bottom_surface_nodes = mapdl.mesh.nodes[bottom_index]\n",
    "displacement_list = []\n",
    "\n",
    "fig, axes = plt.subplots(5, 1, figsize=(15,40))\n",
    "x_bars = ('Sym1', 'Sym2', 'Baseline-Trial-1', 'Baseline-Trial-2', 'Baseline-Trial-3', \n",
    "          'Baseline-Trial-4','Baseline-Trial-5','Smartfixture')\n",
    "x_pos = np.arange(len(x_bars))\n",
    "\n",
    "for i, design_point in enumerate(design_point_list):\n",
    "    displacement_list_i = []\n",
    "    initial_deform_file = data_dir + 'deform_step1_' + design_point + '.npz'\n",
    "    initial_deform = np.load(initial_deform_file)['data']\n",
    "    #initial_deform_norm = initial_deform[bottom_index,1]\n",
    "    initial_deform_norm = np.linalg.norm(initial_deform[bottom_index], axis = 1)\n",
    "\n",
    "    \n",
    "    input_filename_sym1 = sym_dir + 'input_step2_' + design_point + '_sym1.inp'\n",
    "    mapdl.clear()\n",
    "    input_filename = input_filename_sym1 \n",
    "    #print(input_filename)\n",
    "    mapdl.input(input_filename)\n",
    "    result = mapdl.result\n",
    "    all_nodes = mapdl.mesh.nodes\n",
    "    bottom_surface_nodes = mapdl.mesh.nodes[bottom_index]\n",
    "    _, displacement = result.nodal_displacement(0, in_nodal_coord_sys = True)\n",
    "    displacement += initial_deform.copy()\n",
    "    bottom_displacement = displacement[bottom_index]\n",
    "    #bottom_displacement_norm = bottom_displacement[:,1]\n",
    "    bottom_displacement_norm = np.linalg.norm(bottom_displacement, axis = 1)\n",
    "    displacement_list_i.append(bottom_displacement_norm)\n",
    "    \n",
    "    \n",
    "    input_filename_sym2 = sym_dir + 'input_step2_' + design_point + '_sym2.inp'\n",
    "    mapdl.clear()\n",
    "    input_filename = input_filename_sym2 \n",
    "    #print(input_filename)\n",
    "    mapdl.input(input_filename)\n",
    "    result = mapdl.result \n",
    "    bottom_surface_nodes = mapdl.mesh.nodes[bottom_index]\n",
    "    _, displacement =  result.nodal_displacement(0, in_nodal_coord_sys = True)\n",
    "    displacement += initial_deform.copy()\n",
    "    bottom_displacement = displacement[bottom_index]\n",
    "    #bottom_displacement_norm = bottom_displacement[:,1]\n",
    "    bottom_displacement_norm = np.linalg.norm(bottom_displacement, axis = 1)\n",
    "    displacement_list_i.append(bottom_displacement_norm)\n",
    "    \n",
    "    for j in range(5):\n",
    "        input_filename_baseline = base_dir + 'input_step2_' + design_point + '_baseline_' + str(j+1) + '.inp'\n",
    "        mapdl.clear()\n",
    "        input_filename = input_filename_baseline\n",
    "        #print(input_filename)\n",
    "        mapdl.input(input_filename)\n",
    "        result = mapdl.result \n",
    "        bottom_surface_nodes = mapdl.mesh.nodes[bottom_index]\n",
    "        _, displacement =  result.nodal_displacement(0, in_nodal_coord_sys = True)\n",
    "        displacement += initial_deform.copy()\n",
    "        bottom_displacement = displacement[bottom_index]\n",
    "        #bottom_displacement_norm = bottom_displacement[:,1]\n",
    "        bottom_displacement_norm = np.linalg.norm(bottom_displacement, axis = 1)\n",
    "        displacement_list_i.append(bottom_displacement_norm)\n",
    "    \n",
    "    \n",
    "    input_filename_RL = RL_dir + 'input_step2_' + design_point + '.inp'\n",
    "    mapdl.clear()\n",
    "    input_filename = input_filename_RL\n",
    "    #print(input_filename)\n",
    "    mapdl.input(input_filename)\n",
    "    result = mapdl.result \n",
    "    bottom_surface_nodes = mapdl.mesh.nodes[bottom_index]\n",
    "    _, displacement =  result.nodal_displacement(0, in_nodal_coord_sys = True)\n",
    "    displacement += initial_deform.copy()\n",
    "    bottom_displacement = displacement[bottom_index]\n",
    "    #bottom_displacement_norm = bottom_displacement[:,1]\n",
    "    bottom_displacement_norm = np.linalg.norm(bottom_displacement, axis = 1)\n",
    "    displacement_list_i.append(bottom_displacement_norm)\n",
    "    \n",
    "    axes[i].boxplot(displacement_list_i, showfliers=False)\n",
    "    axes[i].set_xticks(x_pos+1)\n",
    "    axes[i].set_xticklabels(x_bars, rotation = 15, fontsize=15)\n",
    "    axes[i].set_yticklabels(axes[i].get_yticks(), fontsize=15)\n",
    "    \n",
    "#     axes[int(i/2),i%2].boxplot(displacement_list_i, showfliers=False)\n",
    "#     axes[int(i/2),i%2].set_xticks(x_pos+1)\n",
    "#     axes[int(i/2),i%2].set_xticklabels(x_bars, rotation = 15, fontsize=15)\n",
    "#     axes[int(i/2),i%2].set_yticklabels(axes[int(i/2),i%2].get_yticks(), fontsize=15)\n",
    "    \n",
    "    displacement_list.append(displacement_list_i)\n",
    "# fig.delaxes(axes[2,1])\n",
    "plt.savefig('./result_0925/boxplot_viz_new.png')"
   ]
  },
  {
   "cell_type": "code",
   "execution_count": null,
   "metadata": {
    "collapsed": true
   },
   "outputs": [],
   "source": [
    "i%2"
   ]
  },
  {
   "cell_type": "code",
   "execution_count": null,
   "metadata": {
    "collapsed": true
   },
   "outputs": [],
   "source": [
    "displacement_list[2][5].max()"
   ]
  },
  {
   "cell_type": "code",
   "execution_count": null,
   "metadata": {
    "collapsed": true
   },
   "outputs": [],
   "source": [
    "input_filename_baseline"
   ]
  },
  {
   "cell_type": "code",
   "execution_count": null,
   "metadata": {
    "collapsed": true
   },
   "outputs": [],
   "source": [
    "selected_positions = [[4376,3174,2979,5824,1077,4570,877,5090],\n",
    "                      [4376,3174,3055,5824,5523,4631,6145,877],\n",
    "                      [4376,3174,3055,5824,5523,4631,6145,877],\n",
    "                      [4376,3174,2979,5824,1077,4570,877,5090],\n",
    "                      [4376,3174,2979,5824,1077,4631,877,5090]]\n",
    "design_point_list = ['dp17', 'dp9', 'dp2', 'dp14', 'dp13']\n",
    "colors = [\"skyblue\", \"gold\",\"orange\",\"darkorange\",\"orangered\"]\n",
    "nodes = [0.0, 0.06, 0.5, 0.9, 1]\n",
    "cmap1 = m.colors.LinearSegmentedColormap.from_list(\"mycmap\", list(zip(nodes, colors)))\n",
    "#cmap1 = m.colors.LinearSegmentedColormap.from_list(\"mycmap\", colors)\n",
    "fig, axes = plt.subplots(6, 5, figsize=(18,12))\n",
    "# norm = m.colors.Normalize(vmin=0, vmax=0.03)\n",
    "data_dir = '../Deformed_inputs_2mm/'\n",
    "stepwise_RL_dir = './result_0925/'\n",
    "test_sym_dir = '../Deformed_input_2mm_test_sym/'\n",
    "input_filename = './PPO_logs/Ansys_assembly/input_step1.inp'\n",
    "mapdl.input(input_filename)\n",
    "all_nodes = mapdl.mesh.nodes\n",
    "bottom_index = np.where(mapdl.mesh.nodes[:,1] == 0)[0]\n",
    "bottom_surface_nodes = mapdl.mesh.nodes[bottom_index]\n",
    "for i, design_point in enumerate(design_point_list):\n",
    "    initial_deform_file = data_dir + 'deform_step1_' + design_point + '.npz'\n",
    "    initial_deform = np.load(initial_deform_file)['data']\n",
    "    #initial_deform_norm = initial_deform[bottom_index,1]\n",
    "    initial_deform_norm = np.linalg.norm(initial_deform[bottom_index], axis = 1)\n",
    "    for k in range(6):\n",
    "        input_filename_RL = stepwise_RL_dir + design_point + '/' + 'input_step2_' + design_point + '_' + str(k+3) + '.inp'\n",
    "        #print(input_filename_RL)\n",
    "        mapdl.clear()\n",
    "        input_filename = input_filename_RL\n",
    "        #print(input_filename)\n",
    "        mapdl.input(input_filename)\n",
    "        result = mapdl.result \n",
    "        bottom_surface_nodes = mapdl.mesh.nodes[bottom_index]\n",
    "        _, displacement =  result.nodal_displacement(0, in_nodal_coord_sys = True)\n",
    "        displacement += initial_deform.copy()\n",
    "        bottom_displacement = displacement[bottom_index]\n",
    "        #bottom_displacement_norm = bottom_displacement[:,1]\n",
    "        bottom_displacement_norm = np.linalg.norm(bottom_displacement, axis = 1)\n",
    "        img = axes[k,i].scatter(bottom_surface_nodes[:,0], \n",
    "                        bottom_surface_nodes[:,2], \n",
    "                        c = bottom_displacement_norm, \n",
    "                        cmap = cmap1, vmin=0, vmax=0.20)\n",
    "        for j in range(k+3):\n",
    "            axes[k,i].scatter(all_nodes[selected_positions[i][j]-1,0], \n",
    "                            all_nodes[selected_positions[i][j]-1,2], c = 'r')\n",
    "            axes[k,i].annotate(str(j+1), (all_nodes[selected_positions[i][j]-1,0], \n",
    "                                        all_nodes[selected_positions[i][j]-1,2]))\n",
    "        axes[k,i].legend()\n",
    "    \n",
    "        \n",
    "    \n",
    "    \n",
    "cb_ax = fig.add_axes([.91,.124,.02,.754])\n",
    "fig.colorbar(img, cax=cb_ax)\n",
    "\n",
    "plt.savefig('./result_0925/deform_viz_stepwise.png')"
   ]
  },
  {
   "cell_type": "code",
   "execution_count": null,
   "metadata": {
    "collapsed": true
   },
   "outputs": [],
   "source": [
    "initial_deform_norm.min()"
   ]
  },
  {
   "cell_type": "code",
   "execution_count": null,
   "metadata": {
    "collapsed": true
   },
   "outputs": [],
   "source": [
    "##symmertric file\n",
    "data_dir = '../Deformed_inputs_2mm/'\n",
    "train_file_list = np.load('train_file_list.npy')\n",
    "test_file_list = np.load('test_file_list.npy')\n",
    "test_sym_dir = '../Deformed_input_2mm_test_sym/'\n",
    "file = test_file_list[3]\n",
    "design_point = file.split('/')[-1].split('.')[0].split('_')[-1]\n",
    "initial_deform_file = data_dir + 'deform_step1_' + design_point + '.npz'\n",
    "initial_deform = np.load(initial_deform_file)['data']\n",
    "input_filename_sym1 = test_sym_dir + 'input_step2_' + design_point + '_sym1.inp'\n",
    "input_filename_sym2 = test_sym_dir + 'input_step2_' + design_point + '_sym2.inp'"
   ]
  },
  {
   "cell_type": "code",
   "execution_count": null,
   "metadata": {
    "collapsed": true
   },
   "outputs": [],
   "source": [
    "input_filename_sym1"
   ]
  },
  {
   "cell_type": "code",
   "execution_count": null,
   "metadata": {
    "collapsed": true
   },
   "outputs": [],
   "source": [
    "mapdl.clear()\n",
    "input_filename = './PPO_logs/Ansys_assembly/input_step1.inp'\n",
    "mapdl.input(input_filename)\n",
    "all_nodes = mapdl.mesh.nodes\n",
    "bottom_index = np.where(mapdl.mesh.nodes[:,1] == 0)[0]"
   ]
  },
  {
   "cell_type": "code",
   "execution_count": null,
   "metadata": {
    "collapsed": true
   },
   "outputs": [],
   "source": [
    "print(input_filename_sym2)"
   ]
  },
  {
   "cell_type": "code",
   "execution_count": null,
   "metadata": {
    "collapsed": true
   },
   "outputs": [],
   "source": [
    "##RL input\n",
    "data_dir = '../Deformed_inputs_2mm_medium/'\n",
    "input_dir = '../Deformed_inputs_2mm_medium/'\n",
    "file = 'input_step2_dp17.inp'\n",
    "design_point = file.split('/')[-1].split('.')[0].split('_')[-1]\n",
    "initial_deform_file = data_dir + 'deform_step1_' + design_point + '.npz'\n",
    "initial_deform = np.load(initial_deform_file)['data']\n",
    "input_file_name = input_dir + file"
   ]
  },
  {
   "cell_type": "code",
   "execution_count": null,
   "metadata": {
    "collapsed": true
   },
   "outputs": [],
   "source": [
    "##RL result\n",
    "data_dir = '../Deformed_inputs_2mm_medium/'\n",
    "input_dir = './PPO_logs/Ansys_assembly/20220719111211/test_input/'\n",
    "file = 'input_step2_dp17.inp'\n",
    "design_point = file.split('/')[-1].split('.')[0].split('_')[-1]\n",
    "initial_deform_file = data_dir + 'deform_step1_' + design_point + '.npz'\n",
    "initial_deform = np.load(initial_deform_file)['data']\n",
    "input_file_name = input_dir + file"
   ]
  },
  {
   "cell_type": "code",
   "execution_count": null,
   "metadata": {
    "collapsed": true
   },
   "outputs": [],
   "source": [
    "# initial_input_filename = 'fix3_discoor_lograll_0102011'\n",
    "# folder = '0102/'\n",
    "# selected_positions = [10253,10102,10153,19412,12616,16497,22277,14929] #RL 0109 \n",
    "# selected_positions = [10253,10102,10153,13349,3158,10700,10239,15076] #RL 0109\n",
    "# selected_positions = [10253,10102,10153,13836,21118,18792,12948,12184] #RL 0106\n",
    "# selected_positions = [10253,10102,10153,10825,700,20921,24588,15327] #RL 0104\n",
    "# selected_positions = [10253,10102,10153,12075,12437,18601,14688,17464] #RL 0102\n",
    "colors = [\"skyblue\",\"gold\",\"darkorange\"]\n",
    "cmap1 = m.colors.LinearSegmentedColormap.from_list(\"mycmap\", colors)\n",
    "\n",
    "for i in range(1):\n",
    "    mapdl.clear()\n",
    "    input_filename = input_filename_sym2\n",
    "    mapdl.input(input_filename)\n",
    "    result = mapdl.result \n",
    "    all_nodes = mapdl.mesh.nodes\n",
    "    bottom_surface_nodes = mapdl.mesh.nodes[bottom_index]\n",
    "    _, displacement =  result.nodal_displacement(0, in_nodal_coord_sys = True)\n",
    "    \n",
    "    displacement += initial_deform.copy()\n",
    "    \n",
    "    bottom_displacement = displacement[bottom_index]\n",
    "\n",
    "#     bottom_displacement_norm = np.linalg.norm(bottom_displacement, axis = 1)\n",
    "#     plt.scatter(bottom_surface_nodes[:,0], bottom_surface_nodes[:,2], c = bottom_displacement_norm, cmap = cmap1)\n",
    "#     plt.colorbar()\n",
    "#     # plt.scatter(all_nodes[selected_positions[:3],0], all_nodes[selected_positions[:3],2])\n",
    "#     for j in range(len(selected_positions[:i+3])):\n",
    "#         plt.scatter(all_nodes[selected_positions[j]-1,0], all_nodes[selected_positions[j]-1,2], c = 'r')\n",
    "#         plt.annotate(str(j+1), (all_nodes[selected_positions[j]-1,0], all_nodes[selected_positions[j]-1,2]))\n",
    "#     plt.legend()\n",
    "#     figname = './result_01112022/' + folder + initial_input_filename + '_' + str(i) + '.png'\n",
    "#     plt.savefig(figname, bbox_inches='tight')\n",
    "#     plt.clf()"
   ]
  },
  {
   "cell_type": "code",
   "execution_count": null,
   "metadata": {
    "collapsed": true
   },
   "outputs": [],
   "source": [
    "# selected_positions = [15000, 17043, 21129, 22859, 16764, 17441, 18929, 16187]\n",
    "# selected_positions = [15000,17043,21129,332,21636,3377,10798,12883]\n",
    "# selected_positions = [15000,17043,21129,21636,18991,3377,10798,35488]\n",
    "# selected_positions = [12962,3982,292,13750,10152,2378,11419,23523]\n",
    "# selected_positions = [10253,10102,10153] #initial\n",
    "# selected_positions = [10253,10102,10153,10103,1190,1210,3660,3640] #rectangle\n",
    "# selected_positions = [10253,10102,10153,10103,2410,965,3905,2425] #triangle\n",
    "# selected_positions = [10253,10102,10153,12075,12437,18601,14688,17464] #RL 0102\n",
    "# selected_positions = [10253,10102,10153,10825,700,20921,24588,15327] #RL 0104\n",
    "# selected_positions = [10253,10102,10153,13836,21118,18792,12948,12184] #RL 0106\n",
    "# selected_positions = [10253,10102,10153,13349,3158,10700,10239,15076] #RL 0109\n",
    "# selected_positions = [10253,10102,10153,19412,12616,16497,22277,14929] #RL 0109                                          \n",
    "# selected_positions = [10253,10102,10153,16859,18228,748,21703,4678]\n",
    "# selected_positions = [10253,10102,10153,13349,3158] #RL 0109\n",
    "# selected_positions = [2552,2578,2628] #intial\n",
    "# selected_positions = [2552,2578,2628,368,377,800,809,2553] #rectangle sym1 0712\n",
    "selected_positions = [2552,2578,2628,304,580,588,880,2553] #triangle sym2 0712\n",
    "# selected_positions = [2552,2578,2628,4440,2915,5145,3691,1070] #RL dp17 0714132342_017\n",
    "# selected_positions = [2552,2578,2628,4373,4719,231,5555,2504] #RL dp9 0719111211_014"
   ]
  },
  {
   "cell_type": "code",
   "execution_count": null,
   "metadata": {
    "collapsed": true
   },
   "outputs": [],
   "source": [
    "##initial deformation\n",
    "colors = [\"skyblue\",\"gold\",\"darkorange\"]\n",
    "cmap1 = m.colors.LinearSegmentedColormap.from_list(\"mycmap\", colors)\n",
    "\n",
    "# cm = m.colors.LinearSegmentedColormap('my_colormap', cdict, 1024)\n",
    "\n",
    "\n",
    "# cmap = m.cm.warm\n",
    "norm = m.colors.Normalize(vmin=0, vmax=0.03)\n",
    "\n",
    "initial_deform_norm = np.linalg.norm(initial_deform[bottom_index], axis = 1)\n",
    "plt.scatter(bottom_surface_nodes[:,0], bottom_surface_nodes[:,2], c = initial_deform_norm, \n",
    "            cmap = cmap1)\n",
    "plt.colorbar()\n"
   ]
  },
  {
   "cell_type": "code",
   "execution_count": null,
   "metadata": {
    "collapsed": true
   },
   "outputs": [],
   "source": [
    "initial_deform_norm.max()"
   ]
  },
  {
   "cell_type": "code",
   "execution_count": null,
   "metadata": {
    "collapsed": true
   },
   "outputs": [],
   "source": [
    "colors = [\"skyblue\",\"gold\",\"darkorange\"]\n",
    "cmap1 = m.colors.LinearSegmentedColormap.from_list(\"mycmap\", colors)\n",
    "\n",
    "# cm = m.colors.LinearSegmentedColormap('my_colormap', cdict, 1024)\n",
    "\n",
    "\n",
    "# cmap = m.cm.warm\n",
    "norm = m.colors.Normalize(vmin=0, vmax=0.03)\n",
    "\n",
    "bottom_displacement_norm = np.linalg.norm(bottom_displacement, axis = 1)\n",
    "plt.scatter(bottom_surface_nodes[:,0], bottom_surface_nodes[:,2], c = bottom_displacement_norm, \n",
    "            cmap = cmap1)\n",
    "plt.colorbar()\n",
    "# plt.scatter(all_nodes[selected_positions[:3],0], all_nodes[selected_positions[:3],2])\n",
    "for i in range(len(selected_positions)):\n",
    "    plt.scatter(all_nodes[selected_positions[i]-1,0], all_nodes[selected_positions[i]-1,2], c = 'r')\n",
    "    plt.annotate(str(i+1), (all_nodes[selected_positions[i]-1,0], all_nodes[selected_positions[i]-1,2]))\n",
    "plt.legend()\n"
   ]
  },
  {
   "cell_type": "code",
   "execution_count": null,
   "metadata": {
    "collapsed": true
   },
   "outputs": [],
   "source": [
    "bottom_displacement_norm.max()"
   ]
  },
  {
   "cell_type": "code",
   "execution_count": null,
   "metadata": {
    "collapsed": true
   },
   "outputs": [],
   "source": [
    "0.0084, 0.0064, 0.0070, 0.0070, 0.00768, "
   ]
  },
  {
   "cell_type": "code",
   "execution_count": null,
   "metadata": {
    "collapsed": true,
    "scrolled": true
   },
   "outputs": [],
   "source": [
    "plt.scatter(bottom_surface_nodes[:,0], bottom_surface_nodes[:,2])\n",
    "# plt.scatter(all_nodes[selected_positions[:3],0], all_nodes[selected_positions[:3],2])\n",
    "for i in range(len(selected_positions)):\n",
    "    plt.scatter(all_nodes[selected_positions[i]-1,0], all_nodes[selected_positions[i]-1,2], c = 'y')\n",
    "    plt.annotate(str(i+1), (all_nodes[selected_positions[i]-1,0], all_nodes[selected_positions[i]-1,2]))\n",
    "plt.legend()"
   ]
  },
  {
   "cell_type": "code",
   "execution_count": null,
   "metadata": {
    "collapsed": true
   },
   "outputs": [],
   "source": [
    "shape = bottom_surface_nodes.shape"
   ]
  },
  {
   "cell_type": "code",
   "execution_count": null,
   "metadata": {
    "collapsed": true
   },
   "outputs": [],
   "source": [
    "bottom_surface_nodes_reduce = np.zeros((shape[0],2))\n",
    "bottom_surface_nodes_reduce[:,0] = bottom_surface_nodes[:,0]\n",
    "bottom_surface_nodes_reduce[:,-1] = bottom_surface_nodes[:,-1]"
   ]
  },
  {
   "cell_type": "code",
   "execution_count": null,
   "metadata": {
    "collapsed": true
   },
   "outputs": [],
   "source": [
    "bottom_surface_nodes_reduce"
   ]
  },
  {
   "cell_type": "code",
   "execution_count": null,
   "metadata": {
    "collapsed": true
   },
   "outputs": [],
   "source": [
    "ind = np.where((bottom_surface_nodes_reduce[:,0] == 0) & (bottom_surface_nodes_reduce[:,1] == 1))[0][0]\n",
    "bottom_index[ind]"
   ]
  },
  {
   "cell_type": "code",
   "execution_count": null,
   "metadata": {
    "collapsed": true
   },
   "outputs": [],
   "source": []
  }
 ],
 "metadata": {
  "kernelspec": {
   "display_name": "tensorflow3.6",
   "language": "python",
   "name": "tensorflow3.6"
  },
  "language_info": {
   "codemirror_mode": {
    "name": "ipython",
    "version": 3
   },
   "file_extension": ".py",
   "mimetype": "text/x-python",
   "name": "python",
   "nbconvert_exporter": "python",
   "pygments_lexer": "ipython3",
   "version": "3.6.8"
  }
 },
 "nbformat": 4,
 "nbformat_minor": 2
}
